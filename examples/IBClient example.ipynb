{
 "cells": [
  {
   "cell_type": "code",
   "execution_count": 1,
   "metadata": {},
   "outputs": [],
   "source": [
    "interp.load.cp(os.Path(\"/home/piotr/devel/ibclient/target/scala-2.12/ibclient-assembly-0.2.2-SNAPSHOT.jar\"))\n",
    "\n"
   ]
  },
  {
   "cell_type": "code",
   "execution_count": 3,
   "metadata": {},
   "outputs": [
    {
     "data": {
      "text/plain": [
       "\u001b[32mimport \u001b[39m\u001b[36mscala.concurrent.Await\n",
       "\u001b[39m\n",
       "\u001b[32mimport \u001b[39m\u001b[36mscala.concurrent.duration.Duration\n",
       "\u001b[39m\n",
       "\u001b[32mimport \u001b[39m\u001b[36mcom.larroy.ibclient.contract.{CashContract, FutureContract, GenericContract, StockContract}\n",
       "\u001b[39m\n",
       "\u001b[32mimport \u001b[39m\u001b[36mcom.larroy.ibclient.{IBClient}\n",
       "\u001b[39m"
      ]
     },
     "execution_count": 3,
     "metadata": {},
     "output_type": "execute_result"
    }
   ],
   "source": [
    "import scala.concurrent.Await\n",
    "import scala.concurrent.duration.Duration\n",
    "import com.larroy.ibclient.contract.{CashContract, FutureContract, GenericContract, StockContract}\n",
    "import com.larroy.ibclient.{IBClient}\n"
   ]
  },
  {
   "cell_type": "code",
   "execution_count": 4,
   "metadata": {},
   "outputs": [
    {
     "name": "stdout",
     "output_type": "stream",
     "text": [
      "Server Version:76\n",
      "TWS Time at connection:20200425 23:22:36 GMT\n",
      "16:22:37.787 [EReader] DEBUG com.larroy.ibclient.IBClient - nextValidId: 10000001\n",
      "16:22:37.794 [EReader] WARN com.larroy.ibclient.IBClient - Warning -1 2104 Market data farm connection is OK:cashfarm\n",
      "16:22:37.795 [EReader] WARN com.larroy.ibclient.IBClient - Warning -1 2107 HMDS data farm connection is inactive but should be available upon demand.cashhmds\n",
      "16:22:37.796 [EReader] WARN com.larroy.ibclient.IBClient - Warning -1 2107 HMDS data farm connection is inactive but should be available upon demand.ushmds\n"
     ]
    },
    {
     "data": {
      "text/plain": [
       "\u001b[36mibc\u001b[39m: \u001b[32mIBClient\u001b[39m = com.larroy.ibclient.IBClient@46502f40\n",
       "\u001b[36mres3_1\u001b[39m: \u001b[32mIBClient\u001b[39m = com.larroy.ibclient.IBClient@46502f40"
      ]
     },
     "execution_count": 4,
     "metadata": {},
     "output_type": "execute_result"
    }
   ],
   "source": [
    "val ibc = new IBClient(\"localhost\", 7496, 4)\n",
    "Await.result(ibc.connect(), Duration.Inf)\n",
    "\n"
   ]
  },
  {
   "cell_type": "code",
   "execution_count": 5,
   "metadata": {},
   "outputs": [
    {
     "name": "stdout",
     "output_type": "stream",
     "text": [
      "16:22:40.582 [scala-interpreter-1] DEBUG com.larroy.ibclient.IBClient - reqContractDetails 10000002\n",
      "16:22:40.792 [EReader] DEBUG com.larroy.ibclient.IBClient - contractDetails 10000002\n",
      "16:22:40.796 [EReader] DEBUG com.larroy.ibclient.IBClient - contractDetails 10000002\n",
      "16:22:40.799 [EReader] DEBUG com.larroy.ibclient.IBClient - contractDetails 10000002\n",
      "16:22:40.803 [EReader] DEBUG com.larroy.ibclient.IBClient - contractDetails 10000002\n",
      "16:22:40.807 [EReader] DEBUG com.larroy.ibclient.IBClient - contractDetails 10000002\n",
      "16:22:40.810 [EReader] DEBUG com.larroy.ibclient.IBClient - contractDetails 10000002\n",
      "16:22:40.812 [EReader] DEBUG com.larroy.ibclient.IBClient - contractDetails 10000002\n",
      "16:22:40.815 [EReader] DEBUG com.larroy.ibclient.IBClient - contractDetails 10000002\n",
      "16:22:40.817 [EReader] DEBUG com.larroy.ibclient.IBClient - contractDetails 10000002\n",
      "16:22:40.819 [EReader] DEBUG com.larroy.ibclient.IBClient - contractDetails 10000002\n",
      "16:22:40.821 [EReader] DEBUG com.larroy.ibclient.IBClient - contractDetails 10000002\n",
      "16:22:40.823 [EReader] DEBUG com.larroy.ibclient.IBClient - contractDetails 10000002\n",
      "16:22:40.825 [EReader] DEBUG com.larroy.ibclient.IBClient - contractDetails 10000002\n",
      "16:22:40.828 [EReader] DEBUG com.larroy.ibclient.IBClient - contractDetails 10000002\n",
      "16:22:40.830 [EReader] DEBUG com.larroy.ibclient.IBClient - contractDetails 10000002\n",
      "16:22:40.832 [EReader] DEBUG com.larroy.ibclient.IBClient - contractDetails 10000002\n",
      "16:22:40.834 [EReader] DEBUG com.larroy.ibclient.IBClient - contractDetails 10000002\n",
      "16:22:40.836 [EReader] DEBUG com.larroy.ibclient.IBClient - contractDetails 10000002\n",
      "16:22:40.838 [EReader] DEBUG com.larroy.ibclient.IBClient - contractDetails 10000002\n",
      "16:22:40.839 [EReader] DEBUG com.larroy.ibclient.IBClient - contractDetails 10000002\n",
      "16:22:40.841 [EReader] DEBUG com.larroy.ibclient.IBClient - contractDetails 10000002\n",
      "16:22:40.843 [EReader] DEBUG com.larroy.ibclient.IBClient - contractDetails 10000002\n",
      "16:22:40.844 [EReader] DEBUG com.larroy.ibclient.IBClient - contractDetails 10000002\n",
      "16:22:40.846 [EReader] DEBUG com.larroy.ibclient.IBClient - contractDetails 10000002\n",
      "16:22:40.847 [EReader] DEBUG com.larroy.ibclient.IBClient - contractDetails 10000002\n",
      "16:22:40.848 [EReader] DEBUG com.larroy.ibclient.IBClient - contractDetails 10000002\n",
      "16:22:40.850 [EReader] DEBUG com.larroy.ibclient.IBClient - contractDetails 10000002\n",
      "16:22:40.851 [EReader] DEBUG com.larroy.ibclient.IBClient - contractDetails 10000002\n",
      "16:22:40.853 [EReader] DEBUG com.larroy.ibclient.IBClient - contractDetails 10000002\n",
      "16:22:40.854 [EReader] DEBUG com.larroy.ibclient.IBClient - contractDetails 10000002\n",
      "16:22:40.856 [EReader] DEBUG com.larroy.ibclient.IBClient - contractDetails 10000002\n",
      "16:22:40.857 [EReader] DEBUG com.larroy.ibclient.IBClient - contractDetails 10000002\n",
      "16:22:40.858 [EReader] DEBUG com.larroy.ibclient.IBClient - contractDetails 10000002\n",
      "16:22:40.860 [EReader] DEBUG com.larroy.ibclient.IBClient - contractDetails 10000002\n",
      "16:22:40.861 [EReader] DEBUG com.larroy.ibclient.IBClient - contractDetails 10000002\n",
      "16:22:40.862 [EReader] DEBUG com.larroy.ibclient.IBClient - contractDetails 10000002\n",
      "16:22:40.864 [EReader] DEBUG com.larroy.ibclient.IBClient - contractDetails 10000002\n",
      "16:22:40.865 [EReader] DEBUG com.larroy.ibclient.IBClient - contractDetails 10000002\n",
      "16:22:40.867 [EReader] DEBUG com.larroy.ibclient.IBClient - contractDetails 10000002\n",
      "16:22:40.868 [EReader] DEBUG com.larroy.ibclient.IBClient - contractDetails 10000002\n",
      "16:22:40.869 [EReader] DEBUG com.larroy.ibclient.IBClient - contractDetails 10000002\n",
      "16:22:40.870 [EReader] DEBUG com.larroy.ibclient.IBClient - contractDetails 10000002\n",
      "16:22:40.872 [EReader] DEBUG com.larroy.ibclient.IBClient - contractDetails 10000002\n",
      "16:22:40.873 [EReader] DEBUG com.larroy.ibclient.IBClient - contractDetails 10000002\n",
      "16:22:40.875 [EReader] DEBUG com.larroy.ibclient.IBClient - contractDetails 10000002\n",
      "16:22:40.876 [EReader] DEBUG com.larroy.ibclient.IBClient - contractDetails 10000002\n",
      "16:22:40.877 [EReader] DEBUG com.larroy.ibclient.IBClient - contractDetails 10000002\n",
      "16:22:40.879 [EReader] DEBUG com.larroy.ibclient.IBClient - contractDetails 10000002\n",
      "16:22:40.881 [EReader] DEBUG com.larroy.ibclient.IBClient - contractDetails 10000002\n",
      "16:22:40.883 [EReader] DEBUG com.larroy.ibclient.IBClient - contractDetails 10000002\n",
      "16:22:40.885 [EReader] DEBUG com.larroy.ibclient.IBClient - contractDetails 10000002\n",
      "16:22:40.887 [EReader] DEBUG com.larroy.ibclient.IBClient - contractDetails 10000002\n",
      "16:22:40.888 [EReader] DEBUG com.larroy.ibclient.IBClient - contractDetails 10000002\n",
      "16:22:40.890 [EReader] DEBUG com.larroy.ibclient.IBClient - contractDetails 10000002\n",
      "16:22:40.891 [EReader] DEBUG com.larroy.ibclient.IBClient - contractDetails 10000002\n",
      "16:22:40.893 [EReader] DEBUG com.larroy.ibclient.IBClient - contractDetails 10000002\n",
      "16:22:40.895 [EReader] DEBUG com.larroy.ibclient.IBClient - contractDetails 10000002\n",
      "16:22:40.896 [EReader] DEBUG com.larroy.ibclient.IBClient - contractDetails 10000002\n",
      "16:22:40.898 [EReader] DEBUG com.larroy.ibclient.IBClient - contractDetails 10000002\n",
      "16:22:40.899 [EReader] DEBUG com.larroy.ibclient.IBClient - contractDetails 10000002\n",
      "16:22:40.901 [EReader] DEBUG com.larroy.ibclient.IBClient - contractDetails 10000002\n",
      "16:22:40.902 [EReader] DEBUG com.larroy.ibclient.IBClient - contractDetails 10000002\n",
      "16:22:40.904 [EReader] DEBUG com.larroy.ibclient.IBClient - contractDetails 10000002\n",
      "16:22:40.905 [EReader] DEBUG com.larroy.ibclient.IBClient - contractDetails 10000002\n",
      "16:22:40.906 [EReader] DEBUG com.larroy.ibclient.IBClient - contractDetails 10000002\n",
      "16:22:40.908 [EReader] DEBUG com.larroy.ibclient.IBClient - contractDetails 10000002\n",
      "16:22:40.909 [EReader] DEBUG com.larroy.ibclient.IBClient - contractDetails 10000002\n",
      "16:22:40.911 [EReader] DEBUG com.larroy.ibclient.IBClient - contractDetails 10000002\n",
      "16:22:40.912 [EReader] DEBUG com.larroy.ibclient.IBClient - contractDetails 10000002\n",
      "16:22:40.914 [EReader] DEBUG com.larroy.ibclient.IBClient - contractDetails 10000002\n",
      "16:22:40.915 [EReader] DEBUG com.larroy.ibclient.IBClient - contractDetails 10000002\n",
      "16:22:40.917 [EReader] DEBUG com.larroy.ibclient.IBClient - contractDetails 10000002\n",
      "16:22:40.918 [EReader] DEBUG com.larroy.ibclient.IBClient - contractDetails 10000002\n",
      "16:22:40.919 [EReader] DEBUG com.larroy.ibclient.IBClient - contractDetails 10000002\n",
      "16:22:40.921 [EReader] DEBUG com.larroy.ibclient.IBClient - contractDetails 10000002\n",
      "16:22:40.922 [EReader] DEBUG com.larroy.ibclient.IBClient - contractDetails 10000002\n",
      "16:22:40.924 [EReader] DEBUG com.larroy.ibclient.IBClient - contractDetails 10000002\n",
      "16:22:40.925 [EReader] DEBUG com.larroy.ibclient.IBClient - contractDetails 10000002\n",
      "16:22:40.926 [EReader] DEBUG com.larroy.ibclient.IBClient - contractDetails 10000002\n",
      "16:22:40.928 [EReader] DEBUG com.larroy.ibclient.IBClient - contractDetails 10000002\n",
      "16:22:40.929 [EReader] DEBUG com.larroy.ibclient.IBClient - contractDetails 10000002\n",
      "16:22:40.931 [EReader] DEBUG com.larroy.ibclient.IBClient - contractDetails 10000002\n",
      "16:22:40.932 [EReader] DEBUG com.larroy.ibclient.IBClient - contractDetails 10000002\n",
      "16:22:40.933 [EReader] DEBUG com.larroy.ibclient.IBClient - contractDetails 10000002\n",
      "16:22:40.935 [EReader] DEBUG com.larroy.ibclient.IBClient - contractDetails 10000002\n",
      "16:22:40.936 [EReader] DEBUG com.larroy.ibclient.IBClient - contractDetails 10000002\n",
      "16:22:40.937 [EReader] DEBUG com.larroy.ibclient.IBClient - contractDetails 10000002\n",
      "16:22:40.939 [EReader] DEBUG com.larroy.ibclient.IBClient - contractDetails 10000002\n",
      "16:22:40.940 [EReader] DEBUG com.larroy.ibclient.IBClient - contractDetails 10000002\n",
      "16:22:40.941 [EReader] DEBUG com.larroy.ibclient.IBClient - contractDetails 10000002\n",
      "16:22:40.943 [EReader] DEBUG com.larroy.ibclient.IBClient - contractDetails 10000002\n",
      "16:22:40.945 [EReader] DEBUG com.larroy.ibclient.IBClient - contractDetails 10000002\n",
      "16:22:40.946 [EReader] DEBUG com.larroy.ibclient.IBClient - contractDetails 10000002\n",
      "16:22:40.948 [EReader] DEBUG com.larroy.ibclient.IBClient - contractDetails 10000002\n",
      "16:22:40.949 [EReader] DEBUG com.larroy.ibclient.IBClient - contractDetails 10000002\n",
      "16:22:40.950 [EReader] DEBUG com.larroy.ibclient.IBClient - contractDetails 10000002\n"
     ]
    },
    {
     "name": "stdout",
     "output_type": "stream",
     "text": [
      "16:22:40.951 [EReader] DEBUG com.larroy.ibclient.IBClient - contractDetails 10000002\n",
      "16:22:40.953 [EReader] DEBUG com.larroy.ibclient.IBClient - contractDetails 10000002\n",
      "16:22:40.954 [EReader] DEBUG com.larroy.ibclient.IBClient - contractDetails 10000002\n",
      "16:22:40.955 [EReader] DEBUG com.larroy.ibclient.IBClient - contractDetails 10000002\n",
      "16:22:40.956 [EReader] DEBUG com.larroy.ibclient.IBClient - contractDetails 10000002\n",
      "16:22:40.957 [EReader] DEBUG com.larroy.ibclient.IBClient - contractDetails 10000002\n",
      "16:22:40.958 [EReader] DEBUG com.larroy.ibclient.IBClient - contractDetails 10000002\n",
      "16:22:40.960 [EReader] DEBUG com.larroy.ibclient.IBClient - contractDetails 10000002\n",
      "16:22:40.961 [EReader] DEBUG com.larroy.ibclient.IBClient - contractDetails 10000002\n",
      "16:22:40.962 [EReader] DEBUG com.larroy.ibclient.IBClient - contractDetails 10000002\n",
      "16:22:40.964 [EReader] DEBUG com.larroy.ibclient.IBClient - contractDetails 10000002\n",
      "16:22:40.965 [EReader] DEBUG com.larroy.ibclient.IBClient - contractDetails 10000002\n",
      "16:22:40.966 [EReader] DEBUG com.larroy.ibclient.IBClient - contractDetails 10000002\n",
      "16:22:40.967 [EReader] DEBUG com.larroy.ibclient.IBClient - contractDetails 10000002\n",
      "16:22:40.968 [EReader] DEBUG com.larroy.ibclient.IBClient - contractDetails 10000002\n",
      "16:22:40.969 [EReader] DEBUG com.larroy.ibclient.IBClient - contractDetails 10000002\n",
      "16:22:40.970 [EReader] DEBUG com.larroy.ibclient.IBClient - contractDetails 10000002\n",
      "16:22:40.971 [EReader] DEBUG com.larroy.ibclient.IBClient - contractDetails 10000002\n",
      "16:22:40.972 [EReader] DEBUG com.larroy.ibclient.IBClient - contractDetails 10000002\n",
      "16:22:40.973 [EReader] DEBUG com.larroy.ibclient.IBClient - contractDetailsEnd 10000002\n"
     ]
    },
    {
     "data": {
      "text/plain": [
       "\u001b[36mc\u001b[39m: \u001b[32mFutureContract\u001b[39m = conid\t0\n",
       "symbol\tCL\n",
       "secType\tFUT\n",
       "strike\t0.0\n",
       "exchange\tNYMEX\n",
       "currency\tUSD\n",
       "\n",
       "\u001b[36mcd\u001b[39m: \u001b[32mSeq\u001b[39m[\u001b[32mcom\u001b[39m.\u001b[32mib\u001b[39m.\u001b[32mclient\u001b[39m.\u001b[32mContractDetails\u001b[39m] = \u001b[33mArrayBuffer\u001b[39m(\n",
       "  conid\t97589583\n",
       "symbol\tCL\n",
       "secType\tFUT\n",
       "expiry\t20201120\n",
       "strike\t0.0\n",
       "multiplier\t1000\n",
       "exchange\tNYMEX\n",
       "currency\tUSD\n",
       "localSymbol\tCLZ0\n",
       "tradingClass\tCL\n",
       "marketName\tCL\n",
       "minTick\t0.01\n",
       "priceMagnifier\t1\n",
       "orderTypes\tACTIVETIM,AD,ADJUST,ALERT,ALGO,ALLOC,AVGCOST,BASKET,BENCHPX,COND,CONDORDER,DAY,DEACT,DEACTDIS,DEACTEOD,GAT,GTC,GTD,GTT,HID,ICE,IOC,LIT,LMT,LTH,MIT,MKT,MKTPROT,MTL,NGCOMB,NONALGO,OCA,PEGBENCH,RFQ,SCALE,SCALERST,SNAPMID,SNAPMKT,SNAPREL,STP,STPLMT,STPPROT,TRAIL,TRAILLIT,TRAILLMT,TRAILMIT,WHATIF\n",
       "validExchanges\tNYMEX\n",
       "underConId\t17340715\n",
       "longName\tLight Sweet Crude Oil\n",
       "contractMonth\t202012\n",
       "timeZoneId\tEST\n",
       "tradingHours\t20200425:CLOSED;20200426:1800-20200427:1700;20200427:1800-20200428:1700;20200428:1800-20200429:1700;20200429:1800-20200430:1700;20200430:1800-20200501:1700;20200502:CLOSED;20200503:1800-20200504:1700;20200504:1800-20200505:1700;20200505:1800-20200506:1700;20200506:1800-20200507:1700;20200507:1800-20200508:1700;20200509:CLOSED;20200510:1800-20200511:1700;20200511:1800-20200512:1700;20200512:1800-20200513:1700;20200513:1800-20200514:1700;20200514:1800-20200515:1700;20200516:CLOSED;20200517:1800-20200518:1700;20200518:1800-20200519:1700;20200519:1800-20200520:1700;20200520:1800-20200521:1700;20200521:1800-20200522:1700;20200523:CLOSED;20200524:1800-20200525:1700;20200525:1800-20200526:1700;20200526:1800-20200527:1700;20200527:1800-20200528:1700;20200528:1800-20200529:1700\n",
       "liquidHours\t20200425:CLOSED;20200426:CLOSED;20200427:0930-20200427:1700;20200428:0930-20200428:1700;20200429:0930-20200429:1700;20200430:0930-20200430:1700;20200501:0930-20200501:1700;20200502:CLOSED;20200503:CLOSED;20200504:0930-20200504:1700;20200505:0930-20200505:1700;20200506:0930-20200506:1700;20200507:0930-20200507:1700;20200508:0930-20200508:1700;20200509:CLOSED;20200510:CLOSED;20200511:0930-20200511:1700;20200512:0930-20200512:1700;20200513:0930-20200513:1700;20200514..."
      ]
     },
     "execution_count": 5,
     "metadata": {},
     "output_type": "execute_result"
    }
   ],
   "source": [
    "val c = new FutureContract(\"CL\", \"\", \"NYMEX\")\n",
    "val cd = Await.result(ibc.contractDetails(c), Duration.Inf)"
   ]
  },
  {
   "cell_type": "code",
   "execution_count": 6,
   "metadata": {},
   "outputs": [
    {
     "data": {
      "text/plain": [
       "\u001b[36mres5\u001b[39m: \u001b[32mcom\u001b[39m.\u001b[32mib\u001b[39m.\u001b[32mclient\u001b[39m.\u001b[32mContractDetails\u001b[39m = conid\t97589583\n",
       "symbol\tCL\n",
       "secType\tFUT\n",
       "expiry\t20201120\n",
       "strike\t0.0\n",
       "multiplier\t1000\n",
       "exchange\tNYMEX\n",
       "currency\tUSD\n",
       "localSymbol\tCLZ0\n",
       "tradingClass\tCL\n",
       "marketName\tCL\n",
       "minTick\t0.01\n",
       "priceMagnifier\t1\n",
       "orderTypes\tACTIVETIM,AD,ADJUST,ALERT,ALGO,ALLOC,AVGCOST,BASKET,BENCHPX,COND,CONDORDER,DAY,DEACT,DEACTDIS,DEACTEOD,GAT,GTC,GTD,GTT,HID,ICE,IOC,LIT,LMT,LTH,MIT,MKT,MKTPROT,MTL,NGCOMB,NONALGO,OCA,PEGBENCH,RFQ,SCALE,SCALERST,SNAPMID,SNAPMKT,SNAPREL,STP,STPLMT,STPPROT,TRAIL,TRAILLIT,TRAILLMT,TRAILMIT,WHATIF\n",
       "validExchanges\tNYMEX\n",
       "underConId\t17340715\n",
       "longName\tLight Sweet Crude Oil\n",
       "contractMonth\t202012\n",
       "timeZoneId\tEST\n",
       "tradingHours\t20200425:CLOSED;20200426:1800-20200427:1700;20200427:1800-20200428:1700;20200428:1800-20200429:1700;20200429:1800-20200430:1700;20200430:1800-20200501:1700;20200502:CLOSED;20200503:1800-20200504:1700;20200504:1800-20200505:1700;20200505:1800-20200506:1700;20200506:1800-20200507:1700;20200507:1800-20200508:1700;20200509:CLOSED;20200510:1800-20200511:1700;20200511:1800-20200512:1700;20200512:1800-20200513:1700;20200513:1800-20200514:1700;20200514:1800-20200515:1700;20200516:CLOSED;20200517:1800-20200518:1700;20200518:1800-20200519:1700;20200519:1800-20200520:1700;20200520:1800-20200521:1700;20200521:1800-20200522:1700;20200523:CLOSED;20200524:1800-20200525:1700;20200525:1800-20200526:1700;20200526:1800-20200527:1700;20200527:1800-20200528:1700;20200528:1800-20200529:1700\n",
       "liquidHours\t20200425:CLOSED;20200426:CLOSED;20200427:0930-20200427:1700;20200428:0930-20200428:1700;20200429:0930-20200429:1700;20200430:0930-20200430:1700;20200501:0930-20200501:1700;20200502:CLOSED;20200503:CLOSED;20200504:0930-20200504:1700;20200505:0930-20200505:1700;20200506:0930-20200506:1700;20200507:0930-20200507:1700;20200508:0930-20200508:1700;20200509:CLOSED;20200510:CLOSED;20200511:0930-20200511:1700;20200512:0930-20200512:1700;20200513:0930-20200513:1700;20200514:0930-20200514:1700;20200515:0930-20200515:1700;20200516:CLOSED;20200517:CLOSED;..."
      ]
     },
     "execution_count": 6,
     "metadata": {},
     "output_type": "execute_result"
    }
   ],
   "source": [
    "cd(0)"
   ]
  },
  {
   "cell_type": "code",
   "execution_count": null,
   "metadata": {},
   "outputs": [],
   "source": []
  }
 ],
 "metadata": {
  "kernelspec": {
   "display_name": "Scala",
   "language": "scala",
   "name": "scala"
  },
  "language_info": {
   "codemirror_mode": "text/x-scala",
   "file_extension": ".scala",
   "mimetype": "text/x-scala",
   "name": "scala",
   "nbconvert_exporter": "script",
   "version": "2.12.10"
  }
 },
 "nbformat": 4,
 "nbformat_minor": 4
}
